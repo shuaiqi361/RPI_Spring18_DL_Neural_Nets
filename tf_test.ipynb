{
 "cells": [
  {
   "cell_type": "code",
   "execution_count": 1,
   "metadata": {},
   "outputs": [],
   "source": [
    "import numpy as np\n",
    "import tensorflow as tf\n",
    "import my_tf_tool as mt\n",
    "import datetime\n",
    "import pickle\n",
    "import matplotlib.pyplot as plt"
   ]
  },
  {
   "cell_type": "markdown",
   "metadata": {},
   "source": [
    "### Load the training and testing data"
   ]
  },
  {
   "cell_type": "code",
   "execution_count": 2,
   "metadata": {},
   "outputs": [
    {
     "name": "stdout",
     "output_type": "stream",
     "text": [
      "(5000, 784)\n",
      "(5000, 10)\n",
      "(50000, 784)\n",
      "(50000, 10)\n"
     ]
    }
   ],
   "source": [
    "# you can download this dataset online at: \n",
    "# https://drive.google.com/file/d/134n4Te9M8cJEbeKxYID1C5I6dtjpsSUY/view?usp=sharing\n",
    "filename = 'Neural_Nets.pkl'\n",
    "with open(filename, 'rb') as f:\n",
    "    d = pickle.load(f)\n",
    "    train_data = d[0]\n",
    "    train_label = d[1].astype(np.float32)\n",
    "    test_data = d[2]\n",
    "    test_label = d[3]\n",
    "    print(test_data.shape)\n",
    "    print(test_label.shape)\n",
    "    print(train_data.shape)\n",
    "    print(train_label.shape)"
   ]
  },
  {
   "cell_type": "markdown",
   "metadata": {},
   "source": [
    "### Normalize the images and add a bias term to the original data"
   ]
  },
  {
   "cell_type": "code",
   "execution_count": 3,
   "metadata": {
    "collapsed": true
   },
   "outputs": [],
   "source": [
    "# normalization\n",
    "train_data /= 255\n",
    "test_data /= 255\n",
    "\n",
    "hm_train_data, feature_dim = train_data.shape\n",
    "hm_test_data, hm_class = test_label.shape\n",
    "\n",
    "# add the bias term as the last column of the data\n",
    "train_data = np.hstack((train_data, np.ones((hm_train_data, 1), dtype=np.float32)))\n",
    "test_data = np.hstack((test_data, np.ones((hm_test_data, 1), dtype=np.float32)))\n",
    "feature_dim += 1"
   ]
  },
  {
   "cell_type": "markdown",
   "metadata": {},
   "source": [
    "### Setup hyperparameters for training the 2-layer Neural Nets"
   ]
  },
  {
   "cell_type": "code",
   "execution_count": 4,
   "metadata": {
    "collapsed": true
   },
   "outputs": [],
   "source": [
    "learning_rate = 0.01\n",
    "learning_epoch = 30\n",
    "lr_decay = 0.6\n",
    "eval_interval = 100\n",
    "batch_size = 50\n",
    "reg_lambda = 0.000002\n",
    "\n",
    "hm_nodes_hid1 = 100\n",
    "hm_nodes_hid2 = 100"
   ]
  },
  {
   "cell_type": "markdown",
   "metadata": {},
   "source": [
    "### Define the architecture of the model in tensorflow, and globle variables to store some intermediate results"
   ]
  },
  {
   "cell_type": "code",
   "execution_count": 5,
   "metadata": {
    "collapsed": true
   },
   "outputs": [],
   "source": [
    "x = tf.placeholder(np.float32, [None, feature_dim])\n",
    "y = tf.placeholder(np.float32, [None, hm_class])"
   ]
  },
  {
   "cell_type": "code",
   "execution_count": 6,
   "metadata": {
    "collapsed": true
   },
   "outputs": [],
   "source": [
    "weight = {'w1': tf.Variable(tf.truncated_normal([hm_nodes_hid1, feature_dim], mean=0.1, stddev=0.01) / 10),\n",
    "          'w2': tf.Variable(tf.truncated_normal([hm_nodes_hid2, hm_nodes_hid1 + 1], mean=0.1, stddev=0.01) / 10),\n",
    "          'w3': tf.Variable(tf.truncated_normal([hm_class, hm_nodes_hid2 + 1], mean=0.1, stddev=0.01) / 10)}\n",
    "\n",
    "losses = np.zeros((0, 1))\n",
    "w1 = np.zeros([hm_nodes_hid1, feature_dim], dtype=np.float32)\n",
    "w2 = np.zeros([hm_nodes_hid2, hm_nodes_hid1 + 1], dtype=np.float32)\n",
    "w3 = np.zeros([hm_class, hm_nodes_hid2 + 1], dtype=np.float32)\n",
    "training_acc = np.zeros((0, 1))\n",
    "testing_acc = np.zeros((0, 1))\n",
    "#prob = np.zeros([])"
   ]
  },
  {
   "cell_type": "code",
   "execution_count": 7,
   "metadata": {},
   "outputs": [],
   "source": [
    "train_acc, loss = mt.compute_accuracy(train_data, train_label, weight, reg_lambda, hm_train_data)\n",
    "grads = mt.forward_back_props(weight, x, y, reg_lambda, batch_size)\n",
    "weight['w1'] = tf.assign_sub(weight['w1'], learning_rate * (grads['w1'] + weight['w1'] * reg_lambda))\n",
    "weight['w2'] = tf.assign_sub(weight['w2'], learning_rate * (grads['w2'] + weight['w2'] * reg_lambda))\n",
    "weight['w3'] = tf.assign_sub(weight['w3'], learning_rate * (grads['w3'] + weight['w3'] * reg_lambda))\n",
    "test_acc, lll = mt.compute_accuracy(test_data, test_label, weight, reg_lambda, hm_test_data)"
   ]
  },
  {
   "cell_type": "markdown",
   "metadata": {},
   "source": [
    "### Start training the model"
   ]
  },
  {
   "cell_type": "code",
   "execution_count": 8,
   "metadata": {},
   "outputs": [
    {
     "name": "stdout",
     "output_type": "stream",
     "text": [
      "Epoch 0 eval at 999 loss 17922.0 training_acc 0.32344 testing_acc 0.3138\n",
      "Epoch 1 eval at 999 loss 6914.19 training_acc 0.81052 testing_acc 0.867\n",
      "Epoch 2 eval at 999 loss 2742.24 training_acc 0.92912 testing_acc 0.923\n",
      "Epoch 3 eval at 999 loss 2236.62 training_acc 0.94334 testing_acc 0.9388\n",
      "Epoch 4 eval at 999 loss 1601.11 training_acc 0.95964 testing_acc 0.9532\n",
      "Epoch 5 eval at 999 loss 1345.47 training_acc 0.96602 testing_acc 0.9544\n",
      "Epoch 6 eval at 999 loss 1211.78 training_acc 0.96998 testing_acc 0.96\n",
      "Epoch 7 eval at 999 loss 1145.5 training_acc 0.97096 testing_acc 0.9584\n",
      "Epoch 8 eval at 999 loss 908.594 training_acc 0.9774 testing_acc 0.9612\n",
      "Epoch 9 eval at 999 loss 840.611 training_acc 0.97922 testing_acc 0.9648\n",
      "Epoch 10 eval at 999 loss 788.817 training_acc 0.9804 testing_acc 0.9658\n",
      "Epoch 11 eval at 999 loss 680.262 training_acc 0.9835 testing_acc 0.9644\n",
      "Epoch 12 eval at 999 loss 891.675 training_acc 0.97748 testing_acc 0.9596\n",
      "Epoch 13 eval at 999 loss 646.713 training_acc 0.9848 testing_acc 0.9644\n",
      "Epoch 14 eval at 999 loss 720.094 training_acc 0.98248 testing_acc 0.9666\n",
      "Epoch 15 eval at 999 loss 510.043 training_acc 0.98818 testing_acc 0.9672\n",
      "Epoch 16 eval at 999 loss 502.02 training_acc 0.98822 testing_acc 0.9674\n",
      "Epoch 17 eval at 999 loss 623.027 training_acc 0.98452 testing_acc 0.964\n",
      "Epoch 18 eval at 999 loss 417.068 training_acc 0.99068 testing_acc 0.9704\n",
      "Epoch 19 eval at 999 loss 410.674 training_acc 0.99062 testing_acc 0.9662\n",
      "Epoch 20 eval at 999 loss 376.137 training_acc 0.99136 testing_acc 0.9684\n",
      "Epoch 21 eval at 999 loss 369.778 training_acc 0.99158 testing_acc 0.9698\n",
      "Epoch 22 eval at 999 loss 430.788 training_acc 0.99008 testing_acc 0.9684\n",
      "Epoch 23 eval at 999 loss 306.611 training_acc 0.99306 testing_acc 0.9692\n",
      "Epoch 24 eval at 999 loss 284.167 training_acc 0.99344 testing_acc 0.9678\n",
      "Epoch 25 eval at 999 loss 263.098 training_acc 0.99432 testing_acc 0.9696\n",
      "Epoch 26 eval at 999 loss 241.409 training_acc 0.9948 testing_acc 0.971\n",
      "Epoch 27 eval at 999 loss 252.431 training_acc 0.9944 testing_acc 0.9698\n",
      "Epoch 28 eval at 999 loss 220.033 training_acc 0.99534 testing_acc 0.9708\n",
      "Epoch 29 eval at 999 loss 232.743 training_acc 0.99494 testing_acc 0.9684\n"
     ]
    }
   ],
   "source": [
    "with tf.Session() as sess:\n",
    "    sess.run(tf.global_variables_initializer())\n",
    "\n",
    "    for s in np.arange(learning_epoch):\n",
    "        start = datetime.datetime.now()\n",
    "        re_order = np.random.permutation(hm_train_data)\n",
    "        for i in np.arange(int(hm_train_data / batch_size)):\n",
    "            batch_x = train_data[re_order[i * batch_size:(i + 1) * batch_size], :]\n",
    "            batch_y = train_label[re_order[i * batch_size:(i + 1) * batch_size], :]\n",
    "\n",
    "            w1, w2, w3, _ = sess.run([weight['w1'], weight['w2'], weight['w3'], grads],\n",
    "                                     feed_dict={x: batch_x, y: batch_y})\n",
    "\n",
    "            if i % eval_interval == 0:\n",
    "                tr_acc, l = sess.run([train_acc, loss])\n",
    "                te_acc, _ = sess.run([test_acc, lll], feed_dict={x:test_data, y: test_label})\n",
    "                losses = np.vstack((losses, l))\n",
    "                training_acc = np.vstack((training_acc, tr_acc))\n",
    "                testing_acc = np.vstack((testing_acc, te_acc))\n",
    "        print('Epoch', s, 'eval at', i, 'loss', l, 'training_acc', tr_acc, 'testing_acc', te_acc)\n",
    "\n",
    "        learning_rate *= lr_decay / (s + 1)\n",
    "        dur = datetime.datetime.now() - start\n",
    "        #print('runtime for', s,  'epoch is ', dur)"
   ]
  },
  {
   "cell_type": "markdown",
   "metadata": {
    "collapsed": true
   },
   "source": [
    "### Plot the learning curves while training"
   ]
  },
  {
   "cell_type": "code",
   "execution_count": 9,
   "metadata": {},
   "outputs": [
    {
     "data": {
      "image/png": "[encoded data removed]",
      "text/plain": [
       "<matplotlib.figure.Figure at 0x12391a860>"
      ]
     },
     "metadata": {},
     "output_type": "display_data"
    }
   ],
   "source": [
    "x1, _ = training_acc.shape\n",
    "x2, _ = testing_acc.shape\n",
    "tr = plt.plot(np.arange(x1), training_acc, 'b-', label='Training')\n",
    "te = plt.plot(np.arange(x2), testing_acc, 'r-', label='Testing')\n",
    "plt.title('training accuracy vs. testing accuracy')\n",
    "plt.legend()\n",
    "plt.xlabel('evaluation iteration')\n",
    "plt.ylabel('accuracy')\n",
    "plt.show()"
   ]
  },
  {
   "cell_type": "markdown",
   "metadata": {},
   "source": [
    "#### The training accuracy continues to improve while the testing performance reaches its bottleneck, the training loss keeps dropping down"
   ]
  },
  {
   "cell_type": "code",
   "execution_count": 10,
   "metadata": {},
   "outputs": [
    {
     "data": {
      "image/png": "[encoded data removed]",
      "text/plain": [
       "<matplotlib.figure.Figure at 0x1238f6d30>"
      ]
     },
     "metadata": {},
     "output_type": "display_data"
    }
   ],
   "source": [
    "x3, _ = losses.shape\n",
    "l = plt.plot(np.arange(x3), losses, 'r-', label='loss')\n",
    "plt.title('learning curve')\n",
    "plt.legend()\n",
    "plt.xlabel('evaluation iteration')\n",
    "plt.ylabel('squared loss')\n",
    "plt.show()"
   ]
  },
  {
   "cell_type": "markdown",
   "metadata": {},
   "source": [
    "### Save the model weights in the desired format"
   ]
  },
  {
   "cell_type": "code",
   "execution_count": 11,
   "metadata": {
    "collapsed": true
   },
   "outputs": [],
   "source": [
    "import pickle\n",
    "Theta = []\n",
    "Theta.append(np.transpose(w1[:, 0:-1]))\n",
    "Theta.append(w1[:, -1][:, None])\n",
    "Theta.append(np.transpose(w2[:, 0:-1]))\n",
    "Theta.append(w2[:, -1][:, None])\n",
    "Theta.append(np.transpose(w3[:, 0:-1]))\n",
    "Theta.append(w3[:, -1][:, None])\n",
    "filehandler = open('nn_parameters.txt', 'wb')\n",
    "pickle.dump(Theta, filehandler)\n",
    "filehandler.close()"
   ]
  }
 ],
 "metadata": {
  "anaconda-cloud": {},
  "kernelspec": {
   "display_name": "Python 3",
   "language": "python",
   "name": "python3"
  },
  "language_info": {
   "codemirror_mode": {
    "name": "ipython",
    "version": 3
   },
   "file_extension": ".py",
   "mimetype": "text/x-python",
   "name": "python",
   "nbconvert_exporter": "python",
   "pygments_lexer": "ipython3",
   "version": "3.6.2"
  }
 },
 "nbformat": 4,
 "nbformat_minor": 2
}
