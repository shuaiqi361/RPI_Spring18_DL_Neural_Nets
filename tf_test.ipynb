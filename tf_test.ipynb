{
 "cells": [
  {
   "cell_type": "code",
   "execution_count": 1,
   "metadata": {},
   "outputs": [],
   "source": [
    "import numpy as np\n",
    "import tensorflow as tf\n",
    "import my_tf_tool as mt\n",
    "import datetime\n",
    "import pickle\n",
    "import matplotlib.pyplot as plt"
   ]
  },
  {
   "cell_type": "markdown",
   "metadata": {},
   "source": [
    "### Load the training and testing data"
   ]
  },
  {
   "cell_type": "code",
   "execution_count": 2,
   "metadata": {},
   "outputs": [
    {
     "name": "stdout",
     "output_type": "stream",
     "text": [
      "(5000, 784)\n",
      "(5000, 10)\n",
      "(50000, 784)\n",
      "(50000, 10)\n"
     ]
    }
   ],
   "source": [
    "# you can download this dataset online at: \n",
    "# https://drive.google.com/file/d/134n4Te9M8cJEbeKxYID1C5I6dtjpsSUY/view?usp=sharing\n",
    "filename = 'Neural_Nets.pkl'\n",
    "with open(filename, 'rb') as f:\n",
    "    d = pickle.load(f)\n",
    "    train_data = d[0]\n",
    "    train_label = d[1].astype(np.float32)\n",
    "    test_data = d[2]\n",
    "    test_label = d[3]\n",
    "    print(test_data.shape)\n",
    "    print(test_label.shape)\n",
    "    print(train_data.shape)\n",
    "    print(train_label.shape)"
   ]
  },
  {
   "cell_type": "markdown",
   "metadata": {},
   "source": [
    "### Normalize the images and add a bias term to the original data"
   ]
  },
  {
   "cell_type": "code",
   "execution_count": 3,
   "metadata": {
    "collapsed": true
   },
   "outputs": [],
   "source": [
    "# normalization\n",
    "train_data /= 255\n",
    "test_data /= 255\n",
    "\n",
    "hm_train_data, feature_dim = train_data.shape\n",
    "hm_test_data, hm_class = test_label.shape\n",
    "\n",
    "# add the bias term as the last column of the data\n",
    "train_data = np.hstack((train_data, np.ones((hm_train_data, 1), dtype=np.float32)))\n",
    "test_data = np.hstack((test_data, np.ones((hm_test_data, 1), dtype=np.float32)))\n",
    "feature_dim += 1"
   ]
  },
  {
   "cell_type": "markdown",
   "metadata": {},
   "source": [
    "### Setup hyperparameters for training the 2-layer Neural Nets"
   ]
  },
  {
   "cell_type": "code",
   "execution_count": 4,
   "metadata": {
    "collapsed": true
   },
   "outputs": [],
   "source": [
    "learning_rate = 0.01\n",
    "learning_epoch = 25\n",
    "lr_decay = 0.6\n",
    "eval_interval = 100\n",
    "batch_size = 50\n",
    "reg_lambda = 0.000002\n",
    "\n",
    "hm_nodes_hid1 = 100\n",
    "hm_nodes_hid2 = 100"
   ]
  },
  {
   "cell_type": "markdown",
   "metadata": {},
   "source": [
    "### Define the architecture of the model in tensorflow, and globle variables to store some intermediate results"
   ]
  },
  {
   "cell_type": "code",
   "execution_count": 5,
   "metadata": {
    "collapsed": true
   },
   "outputs": [],
   "source": [
    "x = tf.placeholder(np.float32, [None, feature_dim])\n",
    "y = tf.placeholder(np.float32, [None, hm_class])"
   ]
  },
  {
   "cell_type": "code",
   "execution_count": 6,
   "metadata": {
    "collapsed": true
   },
   "outputs": [],
   "source": [
    "weight = {'w1': tf.Variable(tf.truncated_normal([hm_nodes_hid1, feature_dim], mean=0.1, stddev=0.01) / 10),\n",
    "          'w2': tf.Variable(tf.truncated_normal([hm_nodes_hid2, hm_nodes_hid1 + 1], mean=0.1, stddev=0.01) / 10),\n",
    "          'w3': tf.Variable(tf.truncated_normal([hm_class, hm_nodes_hid2 + 1], mean=0.1, stddev=0.01) / 10)}\n",
    "\n",
    "losses = np.zeros((0, 1))\n",
    "w1 = np.zeros([hm_nodes_hid1, feature_dim], dtype=np.float32)\n",
    "w2 = np.zeros([hm_nodes_hid2, hm_nodes_hid1 + 1], dtype=np.float32)\n",
    "w3 = np.zeros([hm_class, hm_nodes_hid2 + 1], dtype=np.float32)\n",
    "training_acc = np.zeros((0, 1))\n",
    "testing_acc = np.zeros((0, 1))\n",
    "#prob = np.zeros([])"
   ]
  },
  {
   "cell_type": "code",
   "execution_count": 7,
   "metadata": {},
   "outputs": [],
   "source": [
    "train_acc, loss = mt.compute_accuracy(train_data, train_label, weight, reg_lambda, hm_train_data)\n",
    "grads = mt.forward_back_props(weight, x, y, reg_lambda, batch_size)\n",
    "weight['w1'] = tf.assign_sub(weight['w1'], learning_rate * (grads['w1'] + weight['w1'] * reg_lambda))\n",
    "weight['w2'] = tf.assign_sub(weight['w2'], learning_rate * (grads['w2'] + weight['w2'] * reg_lambda))\n",
    "weight['w3'] = tf.assign_sub(weight['w3'], learning_rate * (grads['w3'] + weight['w3'] * reg_lambda))\n",
    "test_acc, lll = mt.compute_accuracy(test_data, test_label, weight, reg_lambda, hm_test_data)"
   ]
  },
  {
   "cell_type": "markdown",
   "metadata": {},
   "source": [
    "### Start training the model"
   ]
  },
  {
   "cell_type": "code",
   "execution_count": 8,
   "metadata": {},
   "outputs": [
    {
     "name": "stdout",
     "output_type": "stream",
     "text": [
      "Epoch 0 eval at 0 loss 22723.6 training_acc 0.10202 testing_acc 0.103\n",
      "Epoch 0 eval at 100 loss 22356.1 training_acc 0.12008 testing_acc 0.1108\n",
      "Epoch 0 eval at 200 loss 22144.5 training_acc 0.19526 testing_acc 0.192\n",
      "Epoch 0 eval at 300 loss 21257.2 training_acc 0.2113 testing_acc 0.2048\n",
      "Epoch 0 eval at 400 loss 20384.9 training_acc 0.23368 testing_acc 0.231\n",
      "Epoch 0 eval at 500 loss 19624.6 training_acc 0.27896 testing_acc 0.2686\n",
      "Epoch 0 eval at 600 loss 19144.4 training_acc 0.27342 testing_acc 0.2652\n",
      "Epoch 0 eval at 700 loss 18655.1 training_acc 0.29574 testing_acc 0.287\n",
      "Epoch 0 eval at 800 loss 18469.1 training_acc 0.30282 testing_acc 0.291\n",
      "Epoch 0 eval at 900 loss 18082.7 training_acc 0.32046 testing_acc 0.3078\n",
      "runtime for 0 epoch is  0:00:22.284250\n",
      "Epoch 1 eval at 0 loss 17603.1 training_acc 0.38816 testing_acc 0.366\n",
      "Epoch 1 eval at 100 loss 17156.0 training_acc 0.3905 testing_acc 0.363\n",
      "Epoch 1 eval at 200 loss 16081.0 training_acc 0.44248 testing_acc 0.4374\n",
      "Epoch 1 eval at 300 loss 14595.6 training_acc 0.53238 testing_acc 0.5316\n",
      "Epoch 1 eval at 400 loss 12621.8 training_acc 0.60634 testing_acc 0.6338\n",
      "Epoch 1 eval at 500 loss 9638.55 training_acc 0.71708 testing_acc 0.7312\n",
      "Epoch 1 eval at 600 loss 8631.29 training_acc 0.76046 testing_acc 0.7312\n",
      "Epoch 1 eval at 700 loss 6432.85 training_acc 0.83714 testing_acc 0.8298\n",
      "Epoch 1 eval at 800 loss 5254.73 training_acc 0.86294 testing_acc 0.8544\n",
      "Epoch 1 eval at 900 loss 4651.7 training_acc 0.8822 testing_acc 0.8744\n",
      "runtime for 1 epoch is  0:00:15.779601\n",
      "Epoch 2 eval at 0 loss 5089.93 training_acc 0.86904 testing_acc 0.846\n",
      "Epoch 2 eval at 100 loss 3967.56 training_acc 0.89974 testing_acc 0.8854\n",
      "Epoch 2 eval at 200 loss 3733.0 training_acc 0.90396 testing_acc 0.891\n",
      "Epoch 2 eval at 300 loss 3475.82 training_acc 0.91096 testing_acc 0.894\n",
      "Epoch 2 eval at 400 loss 3402.36 training_acc 0.9137 testing_acc 0.8946\n",
      "Epoch 2 eval at 500 loss 3461.14 training_acc 0.91036 testing_acc 0.9088\n",
      "Epoch 2 eval at 600 loss 2997.66 training_acc 0.92334 testing_acc 0.9114\n",
      "Epoch 2 eval at 700 loss 3196.18 training_acc 0.91802 testing_acc 0.9132\n",
      "Epoch 2 eval at 800 loss 2876.8 training_acc 0.92698 testing_acc 0.9182\n",
      "Epoch 2 eval at 900 loss 2788.3 training_acc 0.92838 testing_acc 0.9116\n",
      "runtime for 2 epoch is  0:00:14.708947\n",
      "Epoch 3 eval at 0 loss 2501.27 training_acc 0.93606 testing_acc 0.928\n",
      "Epoch 3 eval at 100 loss 2482.85 training_acc 0.93672 testing_acc 0.931\n",
      "Epoch 3 eval at 200 loss 2454.38 training_acc 0.9374 testing_acc 0.9302\n",
      "Epoch 3 eval at 300 loss 2399.4 training_acc 0.93804 testing_acc 0.928\n",
      "Epoch 3 eval at 400 loss 2297.97 training_acc 0.94126 testing_acc 0.9362\n",
      "Epoch 3 eval at 500 loss 2208.68 training_acc 0.94438 testing_acc 0.9356\n",
      "Epoch 3 eval at 600 loss 2154.64 training_acc 0.9463 testing_acc 0.9338\n",
      "Epoch 3 eval at 700 loss 2185.96 training_acc 0.94472 testing_acc 0.939\n",
      "Epoch 3 eval at 800 loss 2254.06 training_acc 0.9422 testing_acc 0.9364\n",
      "Epoch 3 eval at 900 loss 2039.61 training_acc 0.94762 testing_acc 0.9408\n",
      "runtime for 3 epoch is  0:00:16.241905\n",
      "Epoch 4 eval at 0 loss 2055.02 training_acc 0.94724 testing_acc 0.942\n",
      "Epoch 4 eval at 100 loss 1958.46 training_acc 0.95028 testing_acc 0.941\n",
      "Epoch 4 eval at 200 loss 1885.65 training_acc 0.95254 testing_acc 0.9468\n",
      "Epoch 4 eval at 300 loss 2046.51 training_acc 0.94818 testing_acc 0.9422\n",
      "Epoch 4 eval at 400 loss 1839.67 training_acc 0.9539 testing_acc 0.947\n",
      "Epoch 4 eval at 500 loss 1779.04 training_acc 0.95522 testing_acc 0.9472\n",
      "Epoch 4 eval at 600 loss 1755.8 training_acc 0.95566 testing_acc 0.9498\n",
      "Epoch 4 eval at 700 loss 1770.64 training_acc 0.9556 testing_acc 0.9456\n",
      "Epoch 4 eval at 800 loss 1704.45 training_acc 0.9572 testing_acc 0.95\n",
      "Epoch 4 eval at 900 loss 1642.63 training_acc 0.95804 testing_acc 0.948\n",
      "runtime for 4 epoch is  0:00:14.495470\n",
      "Epoch 5 eval at 0 loss 1579.26 training_acc 0.96086 testing_acc 0.9516\n",
      "Epoch 5 eval at 100 loss 1570.96 training_acc 0.96084 testing_acc 0.9522\n",
      "Epoch 5 eval at 200 loss 1533.02 training_acc 0.96158 testing_acc 0.956\n",
      "Epoch 5 eval at 300 loss 1497.89 training_acc 0.96276 testing_acc 0.9542\n",
      "Epoch 5 eval at 400 loss 1620.07 training_acc 0.95864 testing_acc 0.9526\n",
      "Epoch 5 eval at 500 loss 1396.6 training_acc 0.96502 testing_acc 0.958\n",
      "Epoch 5 eval at 600 loss 1614.47 training_acc 0.9596 testing_acc 0.9502\n",
      "Epoch 5 eval at 700 loss 1446.93 training_acc 0.96318 testing_acc 0.9524\n",
      "Epoch 5 eval at 800 loss 1441.49 training_acc 0.96348 testing_acc 0.9556\n",
      "Epoch 5 eval at 900 loss 1687.2 training_acc 0.95782 testing_acc 0.9536\n",
      "runtime for 5 epoch is  0:00:16.655206\n",
      "Epoch 6 eval at 0 loss 1408.54 training_acc 0.96496 testing_acc 0.9562\n",
      "Epoch 6 eval at 100 loss 1989.35 training_acc 0.94878 testing_acc 0.9516\n",
      "Epoch 6 eval at 200 loss 1266.3 training_acc 0.96842 testing_acc 0.958\n",
      "Epoch 6 eval at 300 loss 1426.59 training_acc 0.96412 testing_acc 0.9542\n",
      "Epoch 6 eval at 400 loss 1280.19 training_acc 0.968 testing_acc 0.9566\n",
      "Epoch 6 eval at 500 loss 1313.23 training_acc 0.96722 testing_acc 0.9552\n",
      "Epoch 6 eval at 600 loss 1371.39 training_acc 0.96548 testing_acc 0.957\n",
      "Epoch 6 eval at 700 loss 1157.46 training_acc 0.97132 testing_acc 0.958\n",
      "Epoch 6 eval at 800 loss 1269.58 training_acc 0.96832 testing_acc 0.9584\n",
      "Epoch 6 eval at 900 loss 1360.18 training_acc 0.96576 testing_acc 0.9598\n",
      "runtime for 6 epoch is  0:00:15.105690\n",
      "Epoch 7 eval at 0 loss 1357.27 training_acc 0.9659 testing_acc 0.9564\n",
      "Epoch 7 eval at 100 loss 1236.08 training_acc 0.9696 testing_acc 0.9586\n",
      "Epoch 7 eval at 200 loss 1157.33 training_acc 0.97156 testing_acc 0.9582\n",
      "Epoch 7 eval at 300 loss 1175.05 training_acc 0.97104 testing_acc 0.9594\n",
      "Epoch 7 eval at 400 loss 1199.9 training_acc 0.96994 testing_acc 0.958\n",
      "Epoch 7 eval at 500 loss 1151.82 training_acc 0.97114 testing_acc 0.9604\n",
      "Epoch 7 eval at 600 loss 1038.51 training_acc 0.97472 testing_acc 0.9626\n",
      "Epoch 7 eval at 700 loss 1123.55 training_acc 0.9724 testing_acc 0.9626\n",
      "Epoch 7 eval at 800 loss 1279.64 training_acc 0.96786 testing_acc 0.9584\n",
      "Epoch 7 eval at 900 loss 995.699 training_acc 0.97568 testing_acc 0.9632\n",
      "runtime for 7 epoch is  0:00:15.964611\n",
      "Epoch 8 eval at 0 loss 1041.64 training_acc 0.97434 testing_acc 0.9622\n",
      "Epoch 8 eval at 100 loss 998.143 training_acc 0.9757 testing_acc 0.9616\n",
      "Epoch 8 eval at 200 loss 1243.64 training_acc 0.96896 testing_acc 0.9608\n",
      "Epoch 8 eval at 300 loss 1002.95 training_acc 0.97484 testing_acc 0.9642\n",
      "Epoch 8 eval at 400 loss 919.023 training_acc 0.97746 testing_acc 0.9644\n",
      "Epoch 8 eval at 500 loss 991.154 training_acc 0.97602 testing_acc 0.9644\n",
      "Epoch 8 eval at 600 loss 1107.91 training_acc 0.97256 testing_acc 0.9596\n",
      "Epoch 8 eval at 700 loss 920.458 training_acc 0.97766 testing_acc 0.964\n",
      "Epoch 8 eval at 800 loss 1068.78 training_acc 0.97312 testing_acc 0.9618\n",
      "Epoch 8 eval at 900 loss 1031.26 training_acc 0.97398 testing_acc 0.96\n",
      "runtime for 8 epoch is  0:00:17.899031\n",
      "Epoch 9 eval at 0 loss 1022.45 training_acc 0.97416 testing_acc 0.9612\n",
      "Epoch 9 eval at 100 loss 980.394 training_acc 0.97562 testing_acc 0.9634\n",
      "Epoch 9 eval at 200 loss 876.366 training_acc 0.97868 testing_acc 0.9642\n",
      "Epoch 9 eval at 300 loss 877.699 training_acc 0.9788 testing_acc 0.9634\n",
      "Epoch 9 eval at 400 loss 986.6 training_acc 0.97564 testing_acc 0.9628\n",
      "Epoch 9 eval at 500 loss 964.971 training_acc 0.97622 testing_acc 0.9624\n",
      "Epoch 9 eval at 600 loss 879.115 training_acc 0.97854 testing_acc 0.9636\n",
      "Epoch 9 eval at 700 loss 911.027 training_acc 0.97798 testing_acc 0.9606\n",
      "Epoch 9 eval at 800 loss 830.882 training_acc 0.98014 testing_acc 0.9642\n",
      "Epoch 9 eval at 900 loss 891.869 training_acc 0.97872 testing_acc 0.9614\n",
      "runtime for 9 epoch is  0:00:17.144598\n",
      "Epoch 10 eval at 0 loss 917.968 training_acc 0.97688 testing_acc 0.9626\n",
      "Epoch 10 eval at 100 loss 837.892 training_acc 0.98002 testing_acc 0.9638\n",
      "Epoch 10 eval at 200 loss 929.552 training_acc 0.97656 testing_acc 0.96\n",
      "Epoch 10 eval at 300 loss 859.172 training_acc 0.97922 testing_acc 0.9634\n",
      "Epoch 10 eval at 400 loss 811.909 training_acc 0.98018 testing_acc 0.9642\n",
      "Epoch 10 eval at 500 loss 829.149 training_acc 0.97984 testing_acc 0.9632\n",
      "Epoch 10 eval at 600 loss 740.088 training_acc 0.98258 testing_acc 0.966\n",
      "Epoch 10 eval at 700 loss 795.541 training_acc 0.9808 testing_acc 0.963\n"
     ]
    },
    {
     "name": "stdout",
     "output_type": "stream",
     "text": [
      "Epoch 10 eval at 800 loss 819.133 training_acc 0.9799 testing_acc 0.9646\n",
      "Epoch 10 eval at 900 loss 810.467 training_acc 0.9801 testing_acc 0.9646\n",
      "runtime for 10 epoch is  0:00:16.728067\n",
      "Epoch 11 eval at 0 loss 751.438 training_acc 0.98206 testing_acc 0.967\n",
      "Epoch 11 eval at 100 loss 832.194 training_acc 0.97964 testing_acc 0.9648\n",
      "Epoch 11 eval at 200 loss 718.82 training_acc 0.98272 testing_acc 0.9656\n",
      "Epoch 11 eval at 300 loss 740.994 training_acc 0.98236 testing_acc 0.9634\n",
      "Epoch 11 eval at 400 loss 787.524 training_acc 0.98054 testing_acc 0.9636\n",
      "Epoch 11 eval at 500 loss 697.926 training_acc 0.98324 testing_acc 0.9656\n",
      "Epoch 11 eval at 600 loss 845.172 training_acc 0.97926 testing_acc 0.962\n",
      "Epoch 11 eval at 700 loss 780.298 training_acc 0.98098 testing_acc 0.963\n",
      "Epoch 11 eval at 800 loss 953.42 training_acc 0.9761 testing_acc 0.9636\n",
      "Epoch 11 eval at 900 loss 677.56 training_acc 0.98388 testing_acc 0.9672\n",
      "runtime for 11 epoch is  0:00:16.317235\n",
      "Epoch 12 eval at 0 loss 709.318 training_acc 0.98314 testing_acc 0.966\n",
      "Epoch 12 eval at 100 loss 717.676 training_acc 0.98278 testing_acc 0.967\n",
      "Epoch 12 eval at 200 loss 635.333 training_acc 0.98472 testing_acc 0.9664\n",
      "Epoch 12 eval at 300 loss 675.982 training_acc 0.98388 testing_acc 0.9678\n",
      "Epoch 12 eval at 400 loss 640.148 training_acc 0.9849 testing_acc 0.966\n",
      "Epoch 12 eval at 500 loss 886.375 training_acc 0.97838 testing_acc 0.958\n",
      "Epoch 12 eval at 600 loss 795.04 training_acc 0.98026 testing_acc 0.9626\n",
      "Epoch 12 eval at 700 loss 686.256 training_acc 0.98352 testing_acc 0.967\n",
      "Epoch 12 eval at 800 loss 738.673 training_acc 0.98172 testing_acc 0.9658\n",
      "Epoch 12 eval at 900 loss 628.089 training_acc 0.98508 testing_acc 0.9686\n",
      "runtime for 12 epoch is  0:00:16.618201\n",
      "Epoch 13 eval at 0 loss 584.685 training_acc 0.9866 testing_acc 0.97\n",
      "Epoch 13 eval at 100 loss 680.113 training_acc 0.9837 testing_acc 0.9638\n",
      "Epoch 13 eval at 200 loss 652.09 training_acc 0.98408 testing_acc 0.9654\n",
      "Epoch 13 eval at 300 loss 659.584 training_acc 0.98412 testing_acc 0.966\n",
      "Epoch 13 eval at 400 loss 624.096 training_acc 0.98506 testing_acc 0.9666\n",
      "Epoch 13 eval at 500 loss 548.875 training_acc 0.98714 testing_acc 0.9702\n",
      "Epoch 13 eval at 600 loss 578.209 training_acc 0.9865 testing_acc 0.9654\n",
      "Epoch 13 eval at 700 loss 593.344 training_acc 0.98612 testing_acc 0.97\n",
      "Epoch 13 eval at 800 loss 613.144 training_acc 0.98564 testing_acc 0.9664\n",
      "Epoch 13 eval at 900 loss 638.383 training_acc 0.98456 testing_acc 0.9658\n",
      "runtime for 13 epoch is  0:00:18.613115\n",
      "Epoch 14 eval at 0 loss 564.994 training_acc 0.98652 testing_acc 0.9658\n",
      "Epoch 14 eval at 100 loss 625.644 training_acc 0.9849 testing_acc 0.9692\n",
      "Epoch 14 eval at 200 loss 580.714 training_acc 0.9862 testing_acc 0.9678\n",
      "Epoch 14 eval at 300 loss 541.573 training_acc 0.98732 testing_acc 0.9692\n",
      "Epoch 14 eval at 400 loss 559.058 training_acc 0.98702 testing_acc 0.9684\n",
      "Epoch 14 eval at 500 loss 587.91 training_acc 0.9862 testing_acc 0.9684\n",
      "Epoch 14 eval at 600 loss 535.733 training_acc 0.98742 testing_acc 0.967\n",
      "Epoch 14 eval at 700 loss 539.741 training_acc 0.9872 testing_acc 0.9698\n",
      "Epoch 14 eval at 800 loss 575.713 training_acc 0.9863 testing_acc 0.9652\n",
      "Epoch 14 eval at 900 loss 486.04 training_acc 0.98888 testing_acc 0.9674\n",
      "runtime for 14 epoch is  0:00:15.851174\n",
      "Epoch 15 eval at 0 loss 582.116 training_acc 0.98616 testing_acc 0.9686\n",
      "Epoch 15 eval at 100 loss 577.65 training_acc 0.98634 testing_acc 0.9626\n",
      "Epoch 15 eval at 200 loss 680.871 training_acc 0.98312 testing_acc 0.968\n",
      "Epoch 15 eval at 300 loss 498.649 training_acc 0.98814 testing_acc 0.969\n",
      "Epoch 15 eval at 400 loss 535.684 training_acc 0.9875 testing_acc 0.9708\n",
      "Epoch 15 eval at 500 loss 549.583 training_acc 0.987 testing_acc 0.9692\n",
      "Epoch 15 eval at 600 loss 511.669 training_acc 0.988 testing_acc 0.969\n",
      "Epoch 15 eval at 700 loss 487.155 training_acc 0.98872 testing_acc 0.9674\n",
      "Epoch 15 eval at 800 loss 465.662 training_acc 0.98924 testing_acc 0.9708\n",
      "Epoch 15 eval at 900 loss 560.888 training_acc 0.9866 testing_acc 0.969\n",
      "runtime for 15 epoch is  0:00:14.029431\n",
      "Epoch 16 eval at 0 loss 518.01 training_acc 0.98794 testing_acc 0.9694\n",
      "Epoch 16 eval at 100 loss 463.696 training_acc 0.98922 testing_acc 0.9686\n",
      "Epoch 16 eval at 200 loss 514.438 training_acc 0.98798 testing_acc 0.97\n",
      "Epoch 16 eval at 300 loss 446.625 training_acc 0.9896 testing_acc 0.9694\n",
      "Epoch 16 eval at 400 loss 508.919 training_acc 0.98834 testing_acc 0.969\n",
      "Epoch 16 eval at 500 loss 501.691 training_acc 0.98812 testing_acc 0.9684\n",
      "Epoch 16 eval at 600 loss 453.648 training_acc 0.98978 testing_acc 0.969\n",
      "Epoch 16 eval at 700 loss 499.729 training_acc 0.98834 testing_acc 0.9682\n",
      "Epoch 16 eval at 800 loss 626.495 training_acc 0.9847 testing_acc 0.967\n",
      "Epoch 16 eval at 900 loss 445.721 training_acc 0.9899 testing_acc 0.9674\n",
      "runtime for 16 epoch is  0:00:15.775652\n",
      "Epoch 17 eval at 0 loss 420.762 training_acc 0.99054 testing_acc 0.9702\n",
      "Epoch 17 eval at 100 loss 407.346 training_acc 0.99068 testing_acc 0.9698\n",
      "Epoch 17 eval at 200 loss 710.249 training_acc 0.98222 testing_acc 0.9636\n",
      "Epoch 17 eval at 300 loss 438.022 training_acc 0.9899 testing_acc 0.9702\n",
      "Epoch 17 eval at 400 loss 523.147 training_acc 0.9878 testing_acc 0.9652\n",
      "Epoch 17 eval at 500 loss 484.927 training_acc 0.98838 testing_acc 0.967\n",
      "Epoch 17 eval at 600 loss 449.442 training_acc 0.98964 testing_acc 0.969\n",
      "Epoch 17 eval at 700 loss 780.334 training_acc 0.98086 testing_acc 0.9622\n",
      "Epoch 17 eval at 800 loss 403.903 training_acc 0.99082 testing_acc 0.9706\n",
      "Epoch 17 eval at 900 loss 417.078 training_acc 0.99048 testing_acc 0.9712\n",
      "runtime for 17 epoch is  0:00:14.895786\n",
      "Epoch 18 eval at 0 loss 460.835 training_acc 0.98936 testing_acc 0.9698\n",
      "Epoch 18 eval at 100 loss 417.039 training_acc 0.99028 testing_acc 0.969\n",
      "Epoch 18 eval at 200 loss 469.145 training_acc 0.98904 testing_acc 0.9686\n",
      "Epoch 18 eval at 300 loss 527.232 training_acc 0.98754 testing_acc 0.9648\n",
      "Epoch 18 eval at 400 loss 409.763 training_acc 0.99044 testing_acc 0.9706\n",
      "Epoch 18 eval at 500 loss 518.008 training_acc 0.9876 testing_acc 0.9682\n",
      "Epoch 18 eval at 600 loss 459.119 training_acc 0.989 testing_acc 0.967\n",
      "Epoch 18 eval at 700 loss 565.24 training_acc 0.98632 testing_acc 0.966\n",
      "Epoch 18 eval at 800 loss 547.724 training_acc 0.98706 testing_acc 0.965\n",
      "Epoch 18 eval at 900 loss 479.292 training_acc 0.98862 testing_acc 0.9702\n",
      "runtime for 18 epoch is  0:00:14.585782\n",
      "Epoch 19 eval at 0 loss 408.925 training_acc 0.99072 testing_acc 0.9666\n",
      "Epoch 19 eval at 100 loss 398.875 training_acc 0.99094 testing_acc 0.972\n",
      "Epoch 19 eval at 200 loss 377.928 training_acc 0.99162 testing_acc 0.9704\n",
      "Epoch 19 eval at 300 loss 599.434 training_acc 0.98532 testing_acc 0.9652\n",
      "Epoch 19 eval at 400 loss 421.174 training_acc 0.9902 testing_acc 0.9688\n",
      "Epoch 19 eval at 500 loss 349.982 training_acc 0.99196 testing_acc 0.9698\n",
      "Epoch 19 eval at 600 loss 350.429 training_acc 0.99202 testing_acc 0.9708\n",
      "Epoch 19 eval at 700 loss 384.707 training_acc 0.99118 testing_acc 0.97\n",
      "Epoch 19 eval at 800 loss 439.583 training_acc 0.98992 testing_acc 0.9684\n",
      "Epoch 19 eval at 900 loss 461.236 training_acc 0.98918 testing_acc 0.9694\n",
      "runtime for 19 epoch is  0:00:15.267153\n",
      "Epoch 20 eval at 0 loss 383.078 training_acc 0.99116 testing_acc 0.9686\n",
      "Epoch 20 eval at 100 loss 398.294 training_acc 0.991 testing_acc 0.9722\n",
      "Epoch 20 eval at 200 loss 426.076 training_acc 0.99022 testing_acc 0.9686\n",
      "Epoch 20 eval at 300 loss 362.4 training_acc 0.99194 testing_acc 0.97\n",
      "Epoch 20 eval at 400 loss 367.401 training_acc 0.9916 testing_acc 0.9676\n",
      "Epoch 20 eval at 500 loss 329.333 training_acc 0.99258 testing_acc 0.9726\n",
      "Epoch 20 eval at 600 loss 318.686 training_acc 0.99296 testing_acc 0.9704\n",
      "Epoch 20 eval at 700 loss 374.311 training_acc 0.99144 testing_acc 0.9682\n",
      "Epoch 20 eval at 800 loss 357.388 training_acc 0.99184 testing_acc 0.9696\n",
      "Epoch 20 eval at 900 loss 388.087 training_acc 0.99118 testing_acc 0.9684\n",
      "runtime for 20 epoch is  0:00:13.985459\n",
      "Epoch 21 eval at 0 loss 338.825 training_acc 0.99238 testing_acc 0.97\n",
      "Epoch 21 eval at 100 loss 370.589 training_acc 0.99154 testing_acc 0.9694\n",
      "Epoch 21 eval at 200 loss 326.892 training_acc 0.99266 testing_acc 0.9716\n",
      "Epoch 21 eval at 300 loss 322.921 training_acc 0.9927 testing_acc 0.9696\n",
      "Epoch 21 eval at 400 loss 393.759 training_acc 0.99104 testing_acc 0.9718\n"
     ]
    },
    {
     "name": "stdout",
     "output_type": "stream",
     "text": [
      "Epoch 21 eval at 500 loss 319.829 training_acc 0.99296 testing_acc 0.9718\n",
      "Epoch 21 eval at 600 loss 325.542 training_acc 0.99268 testing_acc 0.9722\n",
      "Epoch 21 eval at 700 loss 507.268 training_acc 0.98814 testing_acc 0.9688\n",
      "Epoch 21 eval at 800 loss 343.421 training_acc 0.99232 testing_acc 0.9702\n",
      "Epoch 21 eval at 900 loss 313.695 training_acc 0.99308 testing_acc 0.9718\n",
      "runtime for 21 epoch is  0:00:14.002517\n",
      "Epoch 22 eval at 0 loss 368.672 training_acc 0.99148 testing_acc 0.9704\n",
      "Epoch 22 eval at 100 loss 345.144 training_acc 0.9922 testing_acc 0.9702\n",
      "Epoch 22 eval at 200 loss 318.93 training_acc 0.99292 testing_acc 0.971\n",
      "Epoch 22 eval at 300 loss 314.512 training_acc 0.99292 testing_acc 0.9702\n",
      "Epoch 22 eval at 400 loss 284.951 training_acc 0.99376 testing_acc 0.9726\n",
      "Epoch 22 eval at 500 loss 305.287 training_acc 0.99346 testing_acc 0.9722\n",
      "Epoch 22 eval at 600 loss 298.275 training_acc 0.99354 testing_acc 0.9738\n",
      "Epoch 22 eval at 700 loss 321.23 training_acc 0.9931 testing_acc 0.9706\n",
      "Epoch 22 eval at 800 loss 276.782 training_acc 0.99398 testing_acc 0.973\n",
      "Epoch 22 eval at 900 loss 361.847 training_acc 0.99168 testing_acc 0.9718\n",
      "runtime for 22 epoch is  0:00:13.769624\n",
      "Epoch 23 eval at 0 loss 320.477 training_acc 0.9928 testing_acc 0.9702\n",
      "Epoch 23 eval at 100 loss 288.165 training_acc 0.99384 testing_acc 0.9718\n",
      "Epoch 23 eval at 200 loss 293.583 training_acc 0.99366 testing_acc 0.9728\n",
      "Epoch 23 eval at 300 loss 321.566 training_acc 0.99254 testing_acc 0.9716\n",
      "Epoch 23 eval at 400 loss 315.978 training_acc 0.99284 testing_acc 0.9704\n",
      "Epoch 23 eval at 500 loss 287.809 training_acc 0.99368 testing_acc 0.9718\n",
      "Epoch 23 eval at 600 loss 308.27 training_acc 0.99312 testing_acc 0.9702\n",
      "Epoch 23 eval at 700 loss 411.269 training_acc 0.99014 testing_acc 0.9678\n",
      "Epoch 23 eval at 800 loss 275.838 training_acc 0.99416 testing_acc 0.9696\n",
      "Epoch 23 eval at 900 loss 332.331 training_acc 0.99252 testing_acc 0.9698\n",
      "runtime for 23 epoch is  0:00:14.133505\n",
      "Epoch 24 eval at 0 loss 289.114 training_acc 0.99354 testing_acc 0.9714\n",
      "Epoch 24 eval at 100 loss 327.323 training_acc 0.99232 testing_acc 0.9704\n",
      "Epoch 24 eval at 200 loss 282.582 training_acc 0.99374 testing_acc 0.9716\n",
      "Epoch 24 eval at 300 loss 324.585 training_acc 0.99252 testing_acc 0.9694\n",
      "Epoch 24 eval at 400 loss 309.48 training_acc 0.99302 testing_acc 0.9708\n",
      "Epoch 24 eval at 500 loss 365.052 training_acc 0.99158 testing_acc 0.9676\n",
      "Epoch 24 eval at 600 loss 270.499 training_acc 0.99416 testing_acc 0.9708\n",
      "Epoch 24 eval at 700 loss 284.329 training_acc 0.9938 testing_acc 0.971\n",
      "Epoch 24 eval at 800 loss 279.331 training_acc 0.99398 testing_acc 0.9724\n",
      "Epoch 24 eval at 900 loss 282.55 training_acc 0.99374 testing_acc 0.9716\n",
      "runtime for 24 epoch is  0:00:14.048087\n"
     ]
    }
   ],
   "source": [
    "with tf.Session() as sess:\n",
    "    sess.run(tf.global_variables_initializer())\n",
    "\n",
    "    for s in np.arange(learning_epoch):\n",
    "        start = datetime.datetime.now()\n",
    "        re_order = np.random.permutation(hm_train_data)\n",
    "        for i in np.arange(int(hm_train_data / batch_size)):\n",
    "            batch_x = train_data[re_order[i * batch_size:(i + 1) * batch_size], :]\n",
    "            batch_y = train_label[re_order[i * batch_size:(i + 1) * batch_size], :]\n",
    "\n",
    "            w1, w2, w3, _ = sess.run([weight['w1'], weight['w2'], weight['w3'], grads],\n",
    "                                     feed_dict={x: batch_x, y: batch_y})\n",
    "\n",
    "            if i % eval_interval == 0:\n",
    "                tr_acc, l = sess.run([train_acc, loss])\n",
    "                te_acc, _ = sess.run([test_acc, lll], feed_dict={x:test_data, y: test_label})\n",
    "                losses = np.vstack((losses, l))\n",
    "                training_acc = np.vstack((training_acc, tr_acc))\n",
    "                testing_acc = np.vstack((testing_acc, te_acc))\n",
    "                print('Epoch', s, 'eval at', i, 'loss', l, 'training_acc', tr_acc, 'testing_acc', te_acc)\n",
    "\n",
    "        learning_rate *= lr_decay / (s + 1)\n",
    "        dur = datetime.datetime.now() - start\n",
    "        print('runtime for', s,  'epoch is ', dur)"
   ]
  },
  {
   "cell_type": "markdown",
   "metadata": {
    "collapsed": true
   },
   "source": [
    "### Plot the learning curves while training"
   ]
  },
  {
   "cell_type": "code",
   "execution_count": 9,
   "metadata": {},
   "outputs": [
    {
     "data": {
      "image/png": "[encoded data removed]",
      "text/plain": [
       "<matplotlib.figure.Figure at 0x12314ce10>"
      ]
     },
     "metadata": {},
     "output_type": "display_data"
    }
   ],
   "source": [
    "x1, _ = training_acc.shape\n",
    "x2, _ = testing_acc.shape\n",
    "tr = plt.plot(np.arange(x1), training_acc, 'b-', label='Training')\n",
    "te = plt.plot(np.arange(x2), testing_acc, 'r-', label='Testing')\n",
    "plt.title('training accuracy vs. testing accuracy')\n",
    "plt.legend()\n",
    "plt.xlabel('evaluation iteration')\n",
    "plt.ylabel('accuracy')\n",
    "plt.show()"
   ]
  },
  {
   "cell_type": "markdown",
   "metadata": {},
   "source": [
    "#### The training accuracy continues to improve while the testing performance reaches its bottleneck, the training loss keeps dropping down"
   ]
  },
  {
   "cell_type": "code",
   "execution_count": 10,
   "metadata": {},
   "outputs": [
    {
     "data": {
      "image/png": "[encoded data removed]",
      "text/plain": [
       "<matplotlib.figure.Figure at 0x12314cd30>"
      ]
     },
     "metadata": {},
     "output_type": "display_data"
    }
   ],
   "source": [
    "x3, _ = losses.shape\n",
    "l = plt.plot(np.arange(x3), losses, 'r-', label='loss')\n",
    "plt.title('learning curve')\n",
    "plt.legend()\n",
    "plt.xlabel('evaluation iteration')\n",
    "plt.ylabel('squared loss')\n",
    "plt.show()"
   ]
  },
  {
   "cell_type": "markdown",
   "metadata": {},
   "source": [
    "### Save the model weights in the desired format"
   ]
  },
  {
   "cell_type": "code",
   "execution_count": 11,
   "metadata": {
    "collapsed": true
   },
   "outputs": [],
   "source": [
    "import pickle\n",
    "Theta = []\n",
    "Theta.append(np.transpose(w1[:, 0:-1]))\n",
    "Theta.append(w1[:, -1][:, None])\n",
    "Theta.append(np.transpose(w2[:, 0:-1]))\n",
    "Theta.append(w2[:, -1][:, None])\n",
    "Theta.append(np.transpose(w3[:, 0:-1]))\n",
    "Theta.append(w3[:, -1][:, None])\n",
    "filehandler = open('nn_parameters.txt', 'wb')\n",
    "pickle.dump(Theta, filehandler)\n",
    "filehandler.close()"
   ]
  },
  {
   "cell_type": "code",
   "execution_count": null,
   "metadata": {
    "collapsed": true
   },
   "outputs": [],
   "source": []
  }
 ],
 "metadata": {
  "anaconda-cloud": {},
  "kernelspec": {
   "display_name": "Python 3",
   "language": "python",
   "name": "python3"
  },
  "language_info": {
   "codemirror_mode": {
    "name": "ipython",
    "version": 3
   },
   "file_extension": ".py",
   "mimetype": "text/x-python",
   "name": "python",
   "nbconvert_exporter": "python",
   "pygments_lexer": "ipython3",
   "version": "3.6.2"
  }
 },
 "nbformat": 4,
 "nbformat_minor": 2
}
